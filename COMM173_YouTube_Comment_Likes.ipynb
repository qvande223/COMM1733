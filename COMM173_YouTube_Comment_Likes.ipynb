{
 "cells": [
  {
   "cell_type": "code",
   "execution_count": 1,
   "id": "f7f00d1a",
   "metadata": {},
   "outputs": [],
   "source": [
    "from selenium import webdriver\n",
    "from selenium.webdriver.common.keys import Keys\n",
    "from selenium.webdriver.support.ui import WebDriverWait\n",
    "from selenium.webdriver.common.by import By\n",
    "from selenium.webdriver.support import expected_conditions as EC\n",
    "import pandas as pd\n",
    "import time\n"
   ]
  },
  {
   "cell_type": "code",
   "execution_count": 4,
   "id": "f5226570",
   "metadata": {},
   "outputs": [],
   "source": [
    "# Load the dataframe with the YouTube video links and titles\n",
    "df = pd.read_csv('comm170_youtube.csv')\n"
   ]
  },
  {
   "cell_type": "code",
   "execution_count": 5,
   "id": "19d74eb4",
   "metadata": {},
   "outputs": [
    {
     "name": "stdout",
     "output_type": "stream",
     "text": [
      "                                                link  \\\n",
      "0  https://www.youtube.com/watch?v=IkWt-o4FcyE&pp...   \n",
      "\n",
      "                                               title  description  \\\n",
      "0  Who Has The Best Rotisserie Chickens? Sam’s Cl...          NaN   \n",
      "\n",
      "         category  \n",
      "0  costco_chicken  \n"
     ]
    }
   ],
   "source": [
    "print(df)"
   ]
  },
  {
   "cell_type": "code",
   "execution_count": 6,
   "id": "b7dc1465",
   "metadata": {},
   "outputs": [
    {
     "data": {
      "text/html": [
       "<div>\n",
       "<style scoped>\n",
       "    .dataframe tbody tr th:only-of-type {\n",
       "        vertical-align: middle;\n",
       "    }\n",
       "\n",
       "    .dataframe tbody tr th {\n",
       "        vertical-align: top;\n",
       "    }\n",
       "\n",
       "    .dataframe thead th {\n",
       "        text-align: right;\n",
       "    }\n",
       "</style>\n",
       "<table border=\"1\" class=\"dataframe\">\n",
       "  <thead>\n",
       "    <tr style=\"text-align: right;\">\n",
       "      <th></th>\n",
       "      <th>link</th>\n",
       "      <th>title</th>\n",
       "      <th>description</th>\n",
       "      <th>category</th>\n",
       "    </tr>\n",
       "  </thead>\n",
       "  <tbody>\n",
       "    <tr>\n",
       "      <th>0</th>\n",
       "      <td>https://www.youtube.com/watch?v=IkWt-o4FcyE&amp;pp...</td>\n",
       "      <td>Who Has The Best Rotisserie Chickens? Sam’s Cl...</td>\n",
       "      <td>NaN</td>\n",
       "      <td>costco_chicken</td>\n",
       "    </tr>\n",
       "  </tbody>\n",
       "</table>\n",
       "</div>"
      ],
      "text/plain": [
       "                                                link  \\\n",
       "0  https://www.youtube.com/watch?v=IkWt-o4FcyE&pp...   \n",
       "\n",
       "                                               title  description  \\\n",
       "0  Who Has The Best Rotisserie Chickens? Sam’s Cl...          NaN   \n",
       "\n",
       "         category  \n",
       "0  costco_chicken  "
      ]
     },
     "execution_count": 6,
     "metadata": {},
     "output_type": "execute_result"
    }
   ],
   "source": [
    "df[~df.link.str.contains(\"/shorts\")]"
   ]
  },
  {
   "cell_type": "code",
   "execution_count": 7,
   "id": "1eac239f",
   "metadata": {},
   "outputs": [],
   "source": [
    "df_2 = df[~df.link.str.contains(\"/shorts\")]"
   ]
  },
  {
   "cell_type": "code",
   "execution_count": 8,
   "id": "b6744aa9",
   "metadata": {},
   "outputs": [
    {
     "name": "stderr",
     "output_type": "stream",
     "text": [
      "/var/folders/_2/7prvlfws0kj_6yht821hqdf40000gn/T/ipykernel_44388/362170075.py:2: DeprecationWarning: executable_path has been deprecated, please pass in a Service object\n",
      "  driver = webdriver.Chrome(('/Users/quinvandevoorde/Documents/COMM173/chromedriver'))\n"
     ]
    }
   ],
   "source": [
    "# Set up the Selenium webdriver\n",
    "driver = webdriver.Chrome(('/Users/quinvandevoorde/Documents/COMM173/chromedriver'))"
   ]
  },
  {
   "cell_type": "code",
   "execution_count": 9,
   "id": "c0f6f27d",
   "metadata": {},
   "outputs": [],
   "source": [
    "driver.maximize_window() # For maximizing window\n",
    "driver.implicitly_wait(20) # gives an implicit wait for 20 seconds"
   ]
  },
  {
   "cell_type": "code",
   "execution_count": 10,
   "id": "4d3acbec",
   "metadata": {},
   "outputs": [],
   "source": [
    "# Create an empty list to hold the comments and comment likes:\n",
    "comments = []\n",
    "comment_likes = []"
   ]
  },
  {
   "cell_type": "code",
   "execution_count": 11,
   "id": "261cdcf7",
   "metadata": {},
   "outputs": [],
   "source": [
    "def scroll_to_bottom(driver):\n",
    "    old_position = 0\n",
    "    new_position = None\n",
    "    scroll_distance = 500\n",
    "    \n",
    "    while (new_position != old_position):\n",
    "        # Get old scroll position\n",
    "        old_position = driver.execute_script((\"return (window.pageYOffset !== undefined) ?\"\n",
    "                                            \" window.pageYOffset : (document.documentElement ||\"\n",
    "                                            \" document.body.parentNode || document.body);\"))\n",
    "        # Sleep and scroll\n",
    "        time.sleep(5)\n",
    "        driver.execute_script((\"var scrollingElement = (document.scrollingElement ||\"\n",
    "                              \" document.body);scrollingElement.scrollTop = \"\n",
    "                              \" scrollingElement.scrollHeight\"))\n",
    "        \n",
    "        time.sleep(5)\n",
    "        # Get new position\n",
    "        new_position = driver.execute_script((\"return (window.pageYOffset !== undefined) ?\"\n",
    "                                             \" window.pageYOffset : (document.documentElement ||\"\n",
    "                                             \" document.body.parentNode || documentBody);\"))"
   ]
  },
  {
   "cell_type": "code",
   "execution_count": 15,
   "id": "ce976391",
   "metadata": {},
   "outputs": [
    {
     "ename": "NoSuchWindowException",
     "evalue": "Message: no such window: target window already closed\nfrom unknown error: web view not found\n  (Session info: chrome=113.0.5672.126)\nStacktrace:\n0   chromedriver                        0x000000010fa23598 chromedriver + 4973976\n1   chromedriver                        0x000000010fa1a913 chromedriver + 4938003\n2   chromedriver                        0x000000010f5d7cd6 chromedriver + 470230\n3   chromedriver                        0x000000010f5ad58c chromedriver + 296332\n4   chromedriver                        0x000000010f644f0f chromedriver + 917263\n5   chromedriver                        0x000000010f659ef6 chromedriver + 1003254\n6   chromedriver                        0x000000010f63f793 chromedriver + 894867\n7   chromedriver                        0x000000010f60d21f chromedriver + 688671\n8   chromedriver                        0x000000010f60e56e chromedriver + 693614\n9   chromedriver                        0x000000010f9ddbb7 chromedriver + 4688823\n10  chromedriver                        0x000000010f9e2a51 chromedriver + 4708945\n11  chromedriver                        0x000000010f9e940f chromedriver + 4736015\n12  chromedriver                        0x000000010f9e391a chromedriver + 4712730\n13  chromedriver                        0x000000010f9b687c chromedriver + 4528252\n14  chromedriver                        0x000000010fa02f28 chromedriver + 4841256\n15  chromedriver                        0x000000010fa030a7 chromedriver + 4841639\n16  chromedriver                        0x000000010fa1428f chromedriver + 4911759\n17  libsystem_pthread.dylib             0x00007fff2057e8fc _pthread_start + 224\n18  libsystem_pthread.dylib             0x00007fff2057a443 thread_start + 15\n",
     "output_type": "error",
     "traceback": [
      "\u001b[0;31m---------------------------------------------------------------------------\u001b[0m",
      "\u001b[0;31mNoSuchWindowException\u001b[0m                     Traceback (most recent call last)",
      "Cell \u001b[0;32mIn[15], line 4\u001b[0m\n\u001b[1;32m      1\u001b[0m \u001b[38;5;66;03m# Loop through the rows in the dataframe\u001b[39;00m\n\u001b[1;32m      2\u001b[0m \u001b[38;5;28;01mfor\u001b[39;00m index, row \u001b[38;5;129;01min\u001b[39;00m df_2\u001b[38;5;241m.\u001b[39miterrows():\n\u001b[1;32m      3\u001b[0m     \u001b[38;5;66;03m# Navigate to the YouTube video page\u001b[39;00m\n\u001b[0;32m----> 4\u001b[0m     \u001b[43mdriver\u001b[49m\u001b[38;5;241;43m.\u001b[39;49m\u001b[43mget\u001b[49m\u001b[43m(\u001b[49m\u001b[43mrow\u001b[49m\u001b[43m[\u001b[49m\u001b[38;5;124;43m'\u001b[39;49m\u001b[38;5;124;43mlink\u001b[39;49m\u001b[38;5;124;43m'\u001b[39;49m\u001b[43m]\u001b[49m\u001b[43m)\u001b[49m\n\u001b[1;32m      6\u001b[0m     \u001b[38;5;66;03m# Wait for the comments to load\u001b[39;00m\n\u001b[1;32m      7\u001b[0m     wait \u001b[38;5;241m=\u001b[39m WebDriverWait(driver, \u001b[38;5;241m10\u001b[39m)\n",
      "File \u001b[0;32m~/anaconda3/lib/python3.10/site-packages/selenium/webdriver/remote/webdriver.py:449\u001b[0m, in \u001b[0;36mWebDriver.get\u001b[0;34m(self, url)\u001b[0m\n\u001b[1;32m    447\u001b[0m \u001b[38;5;28;01mdef\u001b[39;00m \u001b[38;5;21mget\u001b[39m(\u001b[38;5;28mself\u001b[39m, url: \u001b[38;5;28mstr\u001b[39m) \u001b[38;5;241m-\u001b[39m\u001b[38;5;241m>\u001b[39m \u001b[38;5;28;01mNone\u001b[39;00m:\n\u001b[1;32m    448\u001b[0m     \u001b[38;5;124;03m\"\"\"Loads a web page in the current browser session.\"\"\"\u001b[39;00m\n\u001b[0;32m--> 449\u001b[0m     \u001b[38;5;28;43mself\u001b[39;49m\u001b[38;5;241;43m.\u001b[39;49m\u001b[43mexecute\u001b[49m\u001b[43m(\u001b[49m\u001b[43mCommand\u001b[49m\u001b[38;5;241;43m.\u001b[39;49m\u001b[43mGET\u001b[49m\u001b[43m,\u001b[49m\u001b[43m \u001b[49m\u001b[43m{\u001b[49m\u001b[38;5;124;43m\"\u001b[39;49m\u001b[38;5;124;43murl\u001b[39;49m\u001b[38;5;124;43m\"\u001b[39;49m\u001b[43m:\u001b[49m\u001b[43m \u001b[49m\u001b[43murl\u001b[49m\u001b[43m}\u001b[49m\u001b[43m)\u001b[49m\n",
      "File \u001b[0;32m~/anaconda3/lib/python3.10/site-packages/selenium/webdriver/remote/webdriver.py:440\u001b[0m, in \u001b[0;36mWebDriver.execute\u001b[0;34m(self, driver_command, params)\u001b[0m\n\u001b[1;32m    438\u001b[0m response \u001b[38;5;241m=\u001b[39m \u001b[38;5;28mself\u001b[39m\u001b[38;5;241m.\u001b[39mcommand_executor\u001b[38;5;241m.\u001b[39mexecute(driver_command, params)\n\u001b[1;32m    439\u001b[0m \u001b[38;5;28;01mif\u001b[39;00m response:\n\u001b[0;32m--> 440\u001b[0m     \u001b[38;5;28;43mself\u001b[39;49m\u001b[38;5;241;43m.\u001b[39;49m\u001b[43merror_handler\u001b[49m\u001b[38;5;241;43m.\u001b[39;49m\u001b[43mcheck_response\u001b[49m\u001b[43m(\u001b[49m\u001b[43mresponse\u001b[49m\u001b[43m)\u001b[49m\n\u001b[1;32m    441\u001b[0m     response[\u001b[38;5;124m\"\u001b[39m\u001b[38;5;124mvalue\u001b[39m\u001b[38;5;124m\"\u001b[39m] \u001b[38;5;241m=\u001b[39m \u001b[38;5;28mself\u001b[39m\u001b[38;5;241m.\u001b[39m_unwrap_value(response\u001b[38;5;241m.\u001b[39mget(\u001b[38;5;124m\"\u001b[39m\u001b[38;5;124mvalue\u001b[39m\u001b[38;5;124m\"\u001b[39m, \u001b[38;5;28;01mNone\u001b[39;00m))\n\u001b[1;32m    442\u001b[0m     \u001b[38;5;28;01mreturn\u001b[39;00m response\n",
      "File \u001b[0;32m~/anaconda3/lib/python3.10/site-packages/selenium/webdriver/remote/errorhandler.py:245\u001b[0m, in \u001b[0;36mErrorHandler.check_response\u001b[0;34m(self, response)\u001b[0m\n\u001b[1;32m    243\u001b[0m         alert_text \u001b[38;5;241m=\u001b[39m value[\u001b[38;5;124m\"\u001b[39m\u001b[38;5;124malert\u001b[39m\u001b[38;5;124m\"\u001b[39m]\u001b[38;5;241m.\u001b[39mget(\u001b[38;5;124m\"\u001b[39m\u001b[38;5;124mtext\u001b[39m\u001b[38;5;124m\"\u001b[39m)\n\u001b[1;32m    244\u001b[0m     \u001b[38;5;28;01mraise\u001b[39;00m exception_class(message, screen, stacktrace, alert_text)  \u001b[38;5;66;03m# type: ignore[call-arg]  # mypy is not smart enough here\u001b[39;00m\n\u001b[0;32m--> 245\u001b[0m \u001b[38;5;28;01mraise\u001b[39;00m exception_class(message, screen, stacktrace)\n",
      "\u001b[0;31mNoSuchWindowException\u001b[0m: Message: no such window: target window already closed\nfrom unknown error: web view not found\n  (Session info: chrome=113.0.5672.126)\nStacktrace:\n0   chromedriver                        0x000000010fa23598 chromedriver + 4973976\n1   chromedriver                        0x000000010fa1a913 chromedriver + 4938003\n2   chromedriver                        0x000000010f5d7cd6 chromedriver + 470230\n3   chromedriver                        0x000000010f5ad58c chromedriver + 296332\n4   chromedriver                        0x000000010f644f0f chromedriver + 917263\n5   chromedriver                        0x000000010f659ef6 chromedriver + 1003254\n6   chromedriver                        0x000000010f63f793 chromedriver + 894867\n7   chromedriver                        0x000000010f60d21f chromedriver + 688671\n8   chromedriver                        0x000000010f60e56e chromedriver + 693614\n9   chromedriver                        0x000000010f9ddbb7 chromedriver + 4688823\n10  chromedriver                        0x000000010f9e2a51 chromedriver + 4708945\n11  chromedriver                        0x000000010f9e940f chromedriver + 4736015\n12  chromedriver                        0x000000010f9e391a chromedriver + 4712730\n13  chromedriver                        0x000000010f9b687c chromedriver + 4528252\n14  chromedriver                        0x000000010fa02f28 chromedriver + 4841256\n15  chromedriver                        0x000000010fa030a7 chromedriver + 4841639\n16  chromedriver                        0x000000010fa1428f chromedriver + 4911759\n17  libsystem_pthread.dylib             0x00007fff2057e8fc _pthread_start + 224\n18  libsystem_pthread.dylib             0x00007fff2057a443 thread_start + 15\n"
     ]
    }
   ],
   "source": [
    "# Loop through the rows in the dataframe\n",
    "for index, row in df_2.iterrows():\n",
    "    # Navigate to the YouTube video page\n",
    "    driver.get(row['link'])\n",
    "\n",
    "    # Wait for the comments to load\n",
    "    wait = WebDriverWait(driver, 10)\n",
    "    wait.until(EC.presence_of_element_located((By.CSS_SELECTOR, '#comments #content-text')))\n",
    "    \n",
    "    scroll_to_bottom(driver)\n",
    "    \n",
    "    time.sleep(2)\n",
    "\n",
    "    # Get the comment and comment like elements and extract their text\n",
    "    comment_elems = driver.find_elements(By.CSS_SELECTOR,'#comments #content-text')\n",
    "    comment_like_elems = driver.find_elements(By.CSS_SELECTOR,'#comments #vote-count-middle')\n",
    "    comment_text = [elem.text for elem in comment_elems]\n",
    "    comment_like_text = [elem.text for elem in comment_like_elems]\n",
    "\n",
    "    # Append the comment and comment like text to the corresponding lists\n",
    "    for i in range(len(comment_text)):\n",
    "        comments.append([row['link'], row['title'], comment_text[i]])\n",
    "        comment_likes.append([row['link'], row['title'], comment_text[i], comment_like_text[i]])"
   ]
  },
  {
   "cell_type": "code",
   "execution_count": null,
   "id": "706a1876",
   "metadata": {},
   "outputs": [],
   "source": []
  }
 ],
 "metadata": {
  "kernelspec": {
   "display_name": "Python 3 (ipykernel)",
   "language": "python",
   "name": "python3"
  },
  "language_info": {
   "codemirror_mode": {
    "name": "ipython",
    "version": 3
   },
   "file_extension": ".py",
   "mimetype": "text/x-python",
   "name": "python",
   "nbconvert_exporter": "python",
   "pygments_lexer": "ipython3",
   "version": "3.10.9"
  }
 },
 "nbformat": 4,
 "nbformat_minor": 5
}
