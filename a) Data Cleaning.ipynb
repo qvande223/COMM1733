{
 "cells": [
  {
   "cell_type": "code",
   "execution_count": 1,
   "id": "f60757af",
   "metadata": {},
   "outputs": [
    {
     "name": "stdout",
     "output_type": "stream",
     "text": [
      "Requirement already satisfied: pandas in /Users/quinvandevoorde/anaconda3/lib/python3.10/site-packages (1.5.3)\n",
      "Requirement already satisfied: openpyxl in /Users/quinvandevoorde/anaconda3/lib/python3.10/site-packages (3.0.10)\n",
      "Requirement already satisfied: python-dateutil>=2.8.1 in /Users/quinvandevoorde/anaconda3/lib/python3.10/site-packages (from pandas) (2.8.2)\n",
      "Requirement already satisfied: pytz>=2020.1 in /Users/quinvandevoorde/anaconda3/lib/python3.10/site-packages (from pandas) (2022.7)\n",
      "Requirement already satisfied: numpy>=1.21.0 in /Users/quinvandevoorde/anaconda3/lib/python3.10/site-packages (from pandas) (1.23.5)\n",
      "Requirement already satisfied: et_xmlfile in /Users/quinvandevoorde/anaconda3/lib/python3.10/site-packages (from openpyxl) (1.1.0)\n",
      "Requirement already satisfied: six>=1.5 in /Users/quinvandevoorde/anaconda3/lib/python3.10/site-packages (from python-dateutil>=2.8.1->pandas) (1.16.0)\n",
      "Note: you may need to restart the kernel to use updated packages.\n"
     ]
    }
   ],
   "source": [
    "pip install pandas openpyxl"
   ]
  },
  {
   "cell_type": "code",
   "execution_count": 2,
   "id": "7122820b",
   "metadata": {},
   "outputs": [],
   "source": [
    "import pandas as pd"
   ]
  },
  {
   "cell_type": "code",
   "execution_count": 15,
   "id": "f9ef717a",
   "metadata": {},
   "outputs": [],
   "source": [
    "from selenium import webdriver\n",
    "from selenium.webdriver.common.keys import Keys\n",
    "from selenium.webdriver.support.ui import WebDriverWait\n",
    "from selenium.webdriver.common.by import By\n",
    "from selenium.webdriver.support import expected_conditions as EC\n",
    "import pandas as pd\n",
    "import time\n"
   ]
  },
  {
   "cell_type": "code",
   "execution_count": 17,
   "id": "6dda7017",
   "metadata": {},
   "outputs": [],
   "source": [
    "df = pd.read_csv('video_comment_likes (1).csv')"
   ]
  },
  {
   "cell_type": "code",
   "execution_count": 18,
   "id": "e79cbc68",
   "metadata": {},
   "outputs": [
    {
     "name": "stdout",
     "output_type": "stream",
     "text": [
      "                                                Link  \\\n",
      "0  https://www.youtube.com/watch?v=3qTZnwRbFY0&pp...   \n",
      "1  https://www.youtube.com/watch?v=3qTZnwRbFY0&pp...   \n",
      "2  https://www.youtube.com/watch?v=3qTZnwRbFY0&pp...   \n",
      "3  https://www.youtube.com/watch?v=3qTZnwRbFY0&pp...   \n",
      "4  https://www.youtube.com/watch?v=3qTZnwRbFY0&pp...   \n",
      "\n",
      "                                               Title  \\\n",
      "0  This Is Why Costco Only Charges $5 For A Rotis...   \n",
      "1  This Is Why Costco Only Charges $5 For A Rotis...   \n",
      "2  This Is Why Costco Only Charges $5 For A Rotis...   \n",
      "3  This Is Why Costco Only Charges $5 For A Rotis...   \n",
      "4  This Is Why Costco Only Charges $5 For A Rotis...   \n",
      "\n",
      "                                             Comment Likes  \n",
      "0  Are you a fan of that Costco chicken? Why or w...   727  \n",
      "1  My mom once went in Costco for a rotisserie ch...  1.2K  \n",
      "2  I feel like Costco played the system. They are...    40  \n",
      "3  Before I retired from my regular work, getting...    19  \n",
      "4  I've been using their cooked rotisserie chicke...     8  \n"
     ]
    }
   ],
   "source": [
    "print(df.head())"
   ]
  },
  {
   "cell_type": "code",
   "execution_count": 19,
   "id": "f747820f",
   "metadata": {},
   "outputs": [
    {
     "name": "stdout",
     "output_type": "stream",
     "text": [
      "Link          0\n",
      "Title         0\n",
      "Comment      44\n",
      "Likes      6854\n",
      "dtype: int64\n"
     ]
    }
   ],
   "source": [
    "print(df.isnull().sum())"
   ]
  },
  {
   "cell_type": "code",
   "execution_count": 20,
   "id": "dbf9a4a7",
   "metadata": {},
   "outputs": [],
   "source": [
    "df = df.dropna()"
   ]
  },
  {
   "cell_type": "code",
   "execution_count": 21,
   "id": "32e13ec8",
   "metadata": {},
   "outputs": [
    {
     "name": "stdout",
     "output_type": "stream",
     "text": [
      "79\n"
     ]
    }
   ],
   "source": [
    "print(df.duplicated().sum())"
   ]
  },
  {
   "cell_type": "code",
   "execution_count": 22,
   "id": "a513bc23",
   "metadata": {},
   "outputs": [],
   "source": [
    "df = df.drop_duplicates()\n"
   ]
  },
  {
   "cell_type": "code",
   "execution_count": 23,
   "id": "a17b60c3",
   "metadata": {},
   "outputs": [
    {
     "name": "stdout",
     "output_type": "stream",
     "text": [
      "Link       object\n",
      "Title      object\n",
      "Comment    object\n",
      "Likes      object\n",
      "dtype: object\n"
     ]
    }
   ],
   "source": [
    "print(df.dtypes)"
   ]
  },
  {
   "cell_type": "code",
   "execution_count": 27,
   "id": "7383164e",
   "metadata": {},
   "outputs": [],
   "source": [
    "df.to_csv('cleaned_file.csv', index=False)"
   ]
  },
  {
   "cell_type": "code",
   "execution_count": null,
   "id": "c1d00d9b",
   "metadata": {},
   "outputs": [],
   "source": []
  }
 ],
 "metadata": {
  "kernelspec": {
   "display_name": "Python 3 (ipykernel)",
   "language": "python",
   "name": "python3"
  },
  "language_info": {
   "codemirror_mode": {
    "name": "ipython",
    "version": 3
   },
   "file_extension": ".py",
   "mimetype": "text/x-python",
   "name": "python",
   "nbconvert_exporter": "python",
   "pygments_lexer": "ipython3",
   "version": "3.10.9"
  }
 },
 "nbformat": 4,
 "nbformat_minor": 5
}
